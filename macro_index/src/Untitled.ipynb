{
 "cells": [
  {
   "cell_type": "code",
   "execution_count": 1,
   "metadata": {},
   "outputs": [],
   "source": [
    "#!/usr/bin/python\n",
    "\n",
    "# load library\n",
    "import requests\n",
    "import pandas as pd\n",
    "import os\n",
    "from datetime import datetime\n",
    "from dateutil.relativedelta import relativedelta\n",
    "import sys\n",
    "\n",
    "# download file from url\n",
    "def fredREQ(url, headers, param=None, retries=3):\n",
    "\tresp = None\n",
    "\n",
    "\ttry:\n",
    "\t\tresp = requests.get(url, params=param, headers=headers)\n",
    "\t\tresp.raise_for_status()\n",
    "\texcept requests.exceptions.HTTPError as e:\n",
    "\t\tif 500 <= resp.status_code < 600 and retries > 0:\n",
    "\t\t\tprint('Retries : {0}'.format(retries))\n",
    "\t\t\treturn fredREQ(url, param, retries - 1)\n",
    "\t\telse:\n",
    "\t\t\treturn resp.status_code\n",
    "\treturn resp\n",
    "\n",
    "\n",
    "# make url\n",
    "def fredURL(api_key, series):\n",
    "\n",
    "\t# make series url\n",
    "\tbase_url = \"https://api.stlouisfed.org/fred/series/observations?\"\n",
    "\tquery_key = \"api_key=\" + api_key\n",
    "\tquery_file_type = \"file_type=json\"\n",
    "\tquery_ob_end = datetime.now()\n",
    "\tquery_ob_end_f = \"observation_end=\" + query_ob_end.strftime(\"%Y-%m-%d\")\n",
    "\tquery_ob_start = query_ob_end - relativedelta(years=2)\n",
    "\tquery_ob_start_f = \"observation_start=\" + query_ob_start.strftime(\"%Y-%m-%d\")\n",
    "\tseries_id = \"series_id=\" + series\n",
    "\n",
    "\tquery_list = [query_key, query_file_type, query_ob_start_f, query_ob_end_f, series_id]\n",
    "\n",
    "\t# series url\n",
    "\tseries_url = base_url\n",
    "\tfor query in query_list:\n",
    "\t\tseries_url += \"&\" + query\n",
    "\n",
    "\treturn series_url"
   ]
  },
  {
   "cell_type": "code",
   "execution_count": 4,
   "metadata": {},
   "outputs": [
    {
     "name": "stdout",
     "output_type": "stream",
     "text": [
      "USD1WKD156N\n",
      "USD12MD156N\n"
     ]
    }
   ],
   "source": [
    "api_keys = [\"08e04acc750c26678182a33fe90050b4\", \"2cf918e4dfe6d347d99e73e75930f4a3\",\"752db7a401cae5103d2f5493abd8e5d7\", \"45a87a079750aca5f50296985543695d\"]\n",
    "series_list = [\"USD1WKD156N\", \"USD12MD156N\"]\n",
    "\n",
    "api_key = api_keys[0]\n",
    "save_path = os.getcwd() + \"/data\"\n",
    "\n",
    "if not os.path.isdir(save_path):\n",
    "    os.mkdir(save_path)\n",
    "\n",
    "# loop by series\n",
    "for series in series_list:\n",
    "    print(series)\n",
    "    # make url\n",
    "    series_url = fredURL(api_key, series)\n",
    "\n",
    "    # make header\n",
    "    headers = {'Referer': series_url,\n",
    "               'user-agent': 'Mozilla/5.0 (Windows NT 10.0; Win64; x64) AppleWebKit/537.36 (KHTML, like Gecko) Chrome/80.0.3987.132 Safari/537.36'}\n",
    "\n",
    "    # api key error exception\n",
    "    try:\n",
    "        series_request = fredREQ(series_url, headers)\n",
    "    except:\n",
    "        series_request = 500\n",
    "        k = 1\n",
    "        while isinstance(series_request, int) and k < len(api_keys):\n",
    "            api_key_update = api_keys[k]\n",
    "            series_url_update = fredURL(api_key_update, series)\n",
    "            series_request = fredREQ(series_url_update, headers)\n",
    "            k = k + 1\n",
    "\n",
    "    if isinstance(series_request, int):\n",
    "        continue;\n",
    "\n",
    "    series_json = series_request.json()\n",
    "    series_df = pd.json_normalize(series_json['observations'])\n",
    "\n",
    "    series_result = series_df[['date', 'value']]\n",
    "\n",
    "    layer = save_path + \"/\" + series + \".txt\"\n",
    "\n",
    "    series_result.to_csv(layer, sep=\"|\", index = False)"
   ]
  },
  {
   "cell_type": "code",
   "execution_count": 5,
   "metadata": {},
   "outputs": [
    {
     "data": {
      "text/plain": [
       "'https://api.stlouisfed.org/fred/series/observations?&api_key=08e04acc750c26678182a33fe90050b4&file_type=json&observation_start=2018-10-14&observation_end=2020-10-14&series_id=USD12MD156N'"
      ]
     },
     "execution_count": 5,
     "metadata": {},
     "output_type": "execute_result"
    }
   ],
   "source": [
    "series_url"
   ]
  },
  {
   "cell_type": "code",
   "execution_count": null,
   "metadata": {},
   "outputs": [],
   "source": []
  }
 ],
 "metadata": {
  "kernelspec": {
   "display_name": "Python 3",
   "language": "python",
   "name": "python3"
  },
  "language_info": {
   "codemirror_mode": {
    "name": "ipython",
    "version": 3
   },
   "file_extension": ".py",
   "mimetype": "text/x-python",
   "name": "python",
   "nbconvert_exporter": "python",
   "pygments_lexer": "ipython3",
   "version": "3.7.9"
  }
 },
 "nbformat": 4,
 "nbformat_minor": 4
}
