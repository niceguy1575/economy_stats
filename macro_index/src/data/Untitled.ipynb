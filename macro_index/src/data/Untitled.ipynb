{
 "cells": [
  {
   "cell_type": "code",
   "execution_count": 1,
   "metadata": {},
   "outputs": [],
   "source": [
    "# load library\n",
    "import requests\n",
    "import os\n",
    "from datetime import datetime\n",
    "from dateutil.relativedelta import relativedelta, FR\n",
    "import fitz\n",
    "from bs4 import BeautifulSoup\n",
    "from PIL import Image\n",
    "from io import BytesIO\n",
    "import time\n",
    "\n",
    "# download file from url\n",
    "def pdfDownload(save_path, url, headers, file_nm, param=None, retries=3):\n",
    "\tresp = None\n",
    "\n",
    "\ttry:\n",
    "\t\tresp = requests.get(url, params=param, headers=headers)\n",
    "\t\tresp.raise_for_status()\n",
    "\n",
    "\t\tpdf_layer = save_path +  file_nm + \".pdf\"\n",
    "\n",
    "\t\twith open(pdf_layer, 'wb') as f:\n",
    "\t\t\tf.write(resp.content)\n",
    "\t\t#print(\"complete writing pdf!\")\n",
    "\n",
    "\texcept requests.exceptions.HTTPError as e:\n",
    "\t\tif 500 <= resp.status_code < 600 and retries > 0:\n",
    "\t\t\tprint('Retries : {0}'.format(retries))\n",
    "\t\t\treturn getDownload(url, param, retries - 1)\n",
    "\t\telse:\n",
    "\t\t\treturn resp.status_code\n",
    "\treturn resp\n",
    "\n",
    "def importImgFromPDF(save_path, file, start_page = 1, end_page = 1):\n",
    "\n",
    "\tdoc = fitz.open(file)\n",
    "\n",
    "\t# get img page by\n",
    "\tfor i in range( start_page-1, end_page ):\n",
    "\t\tfor img in doc.getPageImageList(i):\n",
    "\t\t\txref = img[0]\n",
    "\t\t\tpix = fitz.Pixmap(doc, xref)\n",
    "\t\t\tif pix.n < 5:  # this is GRAY or RGB\n",
    "\t\t\t\tpix.writePNG(save_path + \"p%s-%s.png\" % (i, xref))\n",
    "\t\t\telse:  # CMYK: convert to RGB first\n",
    "\t\t\t\tpix1 = fitz.Pixmap(fitz.csRGB, pix)\n",
    "\t\t\t\tpix1.writePNG(save_path + \"p%s-%s.png\" % (i, xref))\n",
    "\t\t\t\tpix1 = None\n",
    "\t\t\tpix = None\n",
    "\n",
    "\t#print(\"img from PDF has been saved!\")\n",
    "\n",
    "def importImgFromURL(save_path, url, file_nm):\n",
    "\n",
    "\tresponse = requests.get(url)\n",
    "\timg = Image.open(BytesIO(response.content))\n",
    "\timg_save_path = save_path + file_nm + '.png'\n",
    "\timg.save(img_save_path)\n",
    "\t#print(\"img from URL has been saved!\")\n",
    "\n",
    "# download file from url\n",
    "def fredREQ(url, headers, param=None, retries=3):\n",
    "\tresp = None\n",
    "\n",
    "\ttry:\n",
    "\t\tresp = requests.get(url, params=param, headers=headers)\n",
    "\t\tresp.raise_for_status()\n",
    "\texcept requests.exceptions.HTTPError as e:\n",
    "\t\tif 500 <= resp.status_code < 600 and retries > 0:\n",
    "\t\t\tprint('Retries : {0}'.format(retries))\n",
    "\t\t\treturn fredREQ(url, param, retries - 1)\n",
    "\t\telse:\n",
    "\t\t\treturn resp.status_code\n",
    "\treturn resp\n"
   ]
  },
  {
   "cell_type": "code",
   "execution_count": 4,
   "metadata": {},
   "outputs": [
    {
     "ename": "UnidentifiedImageError",
     "evalue": "cannot identify image file <_io.BytesIO object at 0x7f6ab5b2f830>",
     "output_type": "error",
     "traceback": [
      "\u001b[0;31m---------------------------------------------------------------------------\u001b[0m",
      "\u001b[0;31mUnidentifiedImageError\u001b[0m                    Traceback (most recent call last)",
      "\u001b[0;32m<ipython-input-4-5a03a8c4fd10>\u001b[0m in \u001b[0;36m<module>\u001b[0;34m\u001b[0m\n\u001b[1;32m     14\u001b[0m \u001b[0;34m\u001b[0m\u001b[0m\n\u001b[1;32m     15\u001b[0m \u001b[0mfear_greed_nm\u001b[0m \u001b[0;34m=\u001b[0m \u001b[0;34m\"FG_image\"\u001b[0m \u001b[0;31m#+ today_str\u001b[0m\u001b[0;34m\u001b[0m\u001b[0;34m\u001b[0m\u001b[0m\n\u001b[0;32m---> 16\u001b[0;31m \u001b[0mimportImgFromURL\u001b[0m\u001b[0;34m(\u001b[0m\u001b[0;34m\"./\"\u001b[0m\u001b[0;34m,\u001b[0m \u001b[0mimg_url\u001b[0m\u001b[0;34m,\u001b[0m \u001b[0mfear_greed_nm\u001b[0m\u001b[0;34m)\u001b[0m\u001b[0;34m\u001b[0m\u001b[0;34m\u001b[0m\u001b[0m\n\u001b[0m",
      "\u001b[0;32m<ipython-input-1-2048cb0bf5cd>\u001b[0m in \u001b[0;36mimportImgFromURL\u001b[0;34m(save_path, url, file_nm)\u001b[0m\n\u001b[1;32m     54\u001b[0m \u001b[0;34m\u001b[0m\u001b[0m\n\u001b[1;32m     55\u001b[0m         \u001b[0mresponse\u001b[0m \u001b[0;34m=\u001b[0m \u001b[0mrequests\u001b[0m\u001b[0;34m.\u001b[0m\u001b[0mget\u001b[0m\u001b[0;34m(\u001b[0m\u001b[0murl\u001b[0m\u001b[0;34m)\u001b[0m\u001b[0;34m\u001b[0m\u001b[0;34m\u001b[0m\u001b[0m\n\u001b[0;32m---> 56\u001b[0;31m         \u001b[0mimg\u001b[0m \u001b[0;34m=\u001b[0m \u001b[0mImage\u001b[0m\u001b[0;34m.\u001b[0m\u001b[0mopen\u001b[0m\u001b[0;34m(\u001b[0m\u001b[0mBytesIO\u001b[0m\u001b[0;34m(\u001b[0m\u001b[0mresponse\u001b[0m\u001b[0;34m.\u001b[0m\u001b[0mcontent\u001b[0m\u001b[0;34m)\u001b[0m\u001b[0;34m)\u001b[0m\u001b[0;34m\u001b[0m\u001b[0;34m\u001b[0m\u001b[0m\n\u001b[0m\u001b[1;32m     57\u001b[0m         \u001b[0mimg_save_path\u001b[0m \u001b[0;34m=\u001b[0m \u001b[0msave_path\u001b[0m \u001b[0;34m+\u001b[0m \u001b[0mfile_nm\u001b[0m \u001b[0;34m+\u001b[0m \u001b[0;34m'.png'\u001b[0m\u001b[0;34m\u001b[0m\u001b[0;34m\u001b[0m\u001b[0m\n\u001b[1;32m     58\u001b[0m         \u001b[0mimg\u001b[0m\u001b[0;34m.\u001b[0m\u001b[0msave\u001b[0m\u001b[0;34m(\u001b[0m\u001b[0mimg_save_path\u001b[0m\u001b[0;34m)\u001b[0m\u001b[0;34m\u001b[0m\u001b[0;34m\u001b[0m\u001b[0m\n",
      "\u001b[0;32m/usr/local/lib/python3.6/dist-packages/PIL/Image.py\u001b[0m in \u001b[0;36mopen\u001b[0;34m(fp, mode)\u001b[0m\n\u001b[1;32m   2929\u001b[0m         \u001b[0mwarnings\u001b[0m\u001b[0;34m.\u001b[0m\u001b[0mwarn\u001b[0m\u001b[0;34m(\u001b[0m\u001b[0mmessage\u001b[0m\u001b[0;34m)\u001b[0m\u001b[0;34m\u001b[0m\u001b[0;34m\u001b[0m\u001b[0m\n\u001b[1;32m   2930\u001b[0m     raise UnidentifiedImageError(\n\u001b[0;32m-> 2931\u001b[0;31m         \u001b[0;34m\"cannot identify image file %r\"\u001b[0m \u001b[0;34m%\u001b[0m \u001b[0;34m(\u001b[0m\u001b[0mfilename\u001b[0m \u001b[0;32mif\u001b[0m \u001b[0mfilename\u001b[0m \u001b[0;32melse\u001b[0m \u001b[0mfp\u001b[0m\u001b[0;34m)\u001b[0m\u001b[0;34m\u001b[0m\u001b[0;34m\u001b[0m\u001b[0m\n\u001b[0m\u001b[1;32m   2932\u001b[0m     )\n\u001b[1;32m   2933\u001b[0m \u001b[0;34m\u001b[0m\u001b[0m\n",
      "\u001b[0;31mUnidentifiedImageError\u001b[0m: cannot identify image file <_io.BytesIO object at 0x7f6ab5b2f830>"
     ]
    }
   ],
   "source": [
    "\n",
    "# 3. Fear & Greed\n",
    "url = \"https://money.cnn.com/data/fear-and-greed/\"\n",
    "headers = {'Referer': url,\n",
    "           'user-agent': 'Mozilla/5.0 (Windows NT 10.0; Win64; x64) AppleWebKit/537.36 (KHTML, like Gecko) Chrome/80.0.3987.132 Safari/537.36'}\n",
    "\n",
    "req = fredREQ(url, headers)\n",
    "req_txt = req.text\n",
    "soup = BeautifulSoup(req_txt, 'html.parser')\n",
    "\n",
    "id_url = soup.find_all(\"div\", {\"id\": \"needleChart\"})\n",
    "\n",
    "style_url = id_url[0]['style']\n",
    "img_url = style_url.split(\"('\", 1)[1].split(\"')\")[0]\n",
    "\n",
    "fear_greed_nm = \"FG_image\" #+ today_str\n",
    "importImgFromURL(\"./\", img_url, fear_greed_nm)"
   ]
  },
  {
   "cell_type": "code",
   "execution_count": 5,
   "metadata": {},
   "outputs": [
    {
     "data": {
      "text/plain": [
       "'http://markets.money.cnn.com/Marketsdata/uploadhandler/z6f8f7c0azc3454a6b12ab4a64b2a4b65d438fec2d.png'"
      ]
     },
     "execution_count": 5,
     "metadata": {},
     "output_type": "execute_result"
    }
   ],
   "source": [
    "img_url"
   ]
  },
  {
   "cell_type": "code",
   "execution_count": null,
   "metadata": {},
   "outputs": [],
   "source": []
  }
 ],
 "metadata": {
  "kernelspec": {
   "display_name": "Python 3",
   "language": "python",
   "name": "python3"
  },
  "language_info": {
   "codemirror_mode": {
    "name": "ipython",
    "version": 3
   },
   "file_extension": ".py",
   "mimetype": "text/x-python",
   "name": "python",
   "nbconvert_exporter": "python",
   "pygments_lexer": "ipython3",
   "version": "3.6.9"
  }
 },
 "nbformat": 4,
 "nbformat_minor": 4
}
