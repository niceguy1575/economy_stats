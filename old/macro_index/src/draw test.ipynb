{
 "cells": [
  {
   "cell_type": "code",
   "execution_count": 9,
   "id": "c3bab754",
   "metadata": {},
   "outputs": [],
   "source": [
    "# load data\n",
    "import os\n",
    "import pandas as pd\n",
    "import re\n",
    "from datetime import datetime\n",
    "from dateutil.relativedelta import relativedelta\n",
    "import matplotlib\n",
    "import matplotlib.pyplot as plt\n",
    "import numpy as np\n",
    "import chart_studio\n",
    "import chart_studio.plotly as py\n",
    "\n",
    "from plotly.offline import plot\n",
    "from plotly import graph_objects as go\n",
    "from plotly import express as px"
   ]
  },
  {
   "cell_type": "code",
   "execution_count": 32,
   "id": "49f1a528",
   "metadata": {},
   "outputs": [],
   "source": [
    "data_dir = os.getcwd() + \"/data/\"\n",
    "files = os.listdir(data_dir)\n",
    "\n",
    "txt_regex = re.compile('fred')\n",
    "\n",
    "txt_file = list(filter(txt_regex.search, files))\n",
    "\n",
    "save_path = os.getcwd() + \"/plot/\"\n",
    "if os.path.isdir(save_path)  is not True:\n",
    "    os.mkdir(save_path)"
   ]
  },
  {
   "cell_type": "code",
   "execution_count": 47,
   "id": "613356ac",
   "metadata": {},
   "outputs": [],
   "source": [
    "data_dir = os.getcwd() + \"/data/\"\n",
    "files = os.listdir(data_dir)\n",
    "\n",
    "txt_regex = re.compile('.pdf$')\n",
    "png_file = list(filter(txt_regex.search, files))"
   ]
  },
  {
   "cell_type": "code",
   "execution_count": 49,
   "id": "b67e4812",
   "metadata": {},
   "outputs": [
    {
     "data": {
      "text/plain": [
       "'/home/ec2-user/economy_stats/macro_index/src/data/'"
      ]
     },
     "execution_count": 49,
     "metadata": {},
     "output_type": "execute_result"
    }
   ],
   "source": [
    "data_dir"
   ]
  },
  {
   "cell_type": "code",
   "execution_count": 6,
   "id": "990f0301",
   "metadata": {},
   "outputs": [],
   "source": [
    "txt = txt_file[0]\n",
    "file = data_dir + txt\n",
    "data = pd.read_csv(file, sep = \"|\")\n",
    "\n",
    "# data type change\n",
    "data.value = data.value.replace(\".\", None)\n",
    "data = data.loc[data.value != \".\",:].copy()\n",
    "data.value = data.value.astype(float)"
   ]
  },
  {
   "cell_type": "code",
   "execution_count": 15,
   "id": "352f124b",
   "metadata": {},
   "outputs": [],
   "source": [
    "def draw_plotly_line(data):\n",
    "    fig = px.line(data, x = 'date', y ='value')\n",
    "    return fig"
   ]
  },
  {
   "cell_type": "code",
   "execution_count": 18,
   "id": "e80579a1",
   "metadata": {},
   "outputs": [],
   "source": [
    "api_id = 'niceguy1575'\n",
    "api_key = 'cAibgxtNqZuX1GOVb3km'\n",
    "\n",
    "# draw plot\n",
    "chart = draw_plotly_line(data)\n",
    "\n",
    "# upload to char studio\n",
    "chart_studio.tools.set_credentials_file(username = api_id, api_key = api_key)\n",
    "\n",
    "chart_layer = txt\n",
    "chart = py.plot(chart, filename = chart_layer, auto_open = False, fileopt = 'overwrite', sharing = 'public')\n"
   ]
  },
  {
   "cell_type": "code",
   "execution_count": 21,
   "id": "63143823",
   "metadata": {},
   "outputs": [
    {
     "ename": "ValueError",
     "evalue": "Value of 'x' is not the name of a column in 'data_frame'. Expected one of ['idx', 'value'] but received: date",
     "output_type": "error",
     "traceback": [
      "\u001b[0;31m---------------------------------------------------------------------------\u001b[0m",
      "\u001b[0;31mValueError\u001b[0m                                Traceback (most recent call last)",
      "\u001b[0;32m/tmp/ipykernel_26736/1222450609.py\u001b[0m in \u001b[0;36m<module>\u001b[0;34m\u001b[0m\n\u001b[1;32m     13\u001b[0m \u001b[0;34m\u001b[0m\u001b[0m\n\u001b[1;32m     14\u001b[0m     \u001b[0;31m# draw plot\u001b[0m\u001b[0;34m\u001b[0m\u001b[0;34m\u001b[0m\u001b[0;34m\u001b[0m\u001b[0m\n\u001b[0;32m---> 15\u001b[0;31m     \u001b[0mchart\u001b[0m \u001b[0;34m=\u001b[0m \u001b[0mdraw_plotly_line\u001b[0m\u001b[0;34m(\u001b[0m\u001b[0mdata\u001b[0m\u001b[0;34m)\u001b[0m\u001b[0;34m\u001b[0m\u001b[0;34m\u001b[0m\u001b[0m\n\u001b[0m\u001b[1;32m     16\u001b[0m \u001b[0;34m\u001b[0m\u001b[0m\n\u001b[1;32m     17\u001b[0m     \u001b[0;31m# upload to char studio\u001b[0m\u001b[0;34m\u001b[0m\u001b[0;34m\u001b[0m\u001b[0;34m\u001b[0m\u001b[0m\n",
      "\u001b[0;32m/tmp/ipykernel_26736/2329380246.py\u001b[0m in \u001b[0;36mdraw_plotly_line\u001b[0;34m(data)\u001b[0m\n\u001b[1;32m      1\u001b[0m \u001b[0;32mdef\u001b[0m \u001b[0mdraw_plotly_line\u001b[0m\u001b[0;34m(\u001b[0m\u001b[0mdata\u001b[0m\u001b[0;34m)\u001b[0m\u001b[0;34m:\u001b[0m\u001b[0;34m\u001b[0m\u001b[0;34m\u001b[0m\u001b[0m\n\u001b[0;32m----> 2\u001b[0;31m     \u001b[0mfig\u001b[0m \u001b[0;34m=\u001b[0m \u001b[0mpx\u001b[0m\u001b[0;34m.\u001b[0m\u001b[0mline\u001b[0m\u001b[0;34m(\u001b[0m\u001b[0mdata\u001b[0m\u001b[0;34m,\u001b[0m \u001b[0mx\u001b[0m \u001b[0;34m=\u001b[0m \u001b[0;34m'date'\u001b[0m\u001b[0;34m,\u001b[0m \u001b[0my\u001b[0m \u001b[0;34m=\u001b[0m\u001b[0;34m'value'\u001b[0m\u001b[0;34m)\u001b[0m\u001b[0;34m\u001b[0m\u001b[0;34m\u001b[0m\u001b[0m\n\u001b[0m\u001b[1;32m      3\u001b[0m     \u001b[0;32mreturn\u001b[0m \u001b[0mfig\u001b[0m\u001b[0;34m\u001b[0m\u001b[0;34m\u001b[0m\u001b[0m\n",
      "\u001b[0;32m~/.local/lib/python3.7/site-packages/plotly/express/_chart_types.py\u001b[0m in \u001b[0;36mline\u001b[0;34m(data_frame, x, y, line_group, color, line_dash, symbol, hover_name, hover_data, custom_data, text, facet_row, facet_col, facet_col_wrap, facet_row_spacing, facet_col_spacing, error_x, error_x_minus, error_y, error_y_minus, animation_frame, animation_group, category_orders, labels, orientation, color_discrete_sequence, color_discrete_map, line_dash_sequence, line_dash_map, symbol_sequence, symbol_map, markers, log_x, log_y, range_x, range_y, line_shape, render_mode, title, template, width, height)\u001b[0m\n\u001b[1;32m    260\u001b[0m     \u001b[0ma\u001b[0m \u001b[0mpolyline\u001b[0m \u001b[0mmark\u001b[0m \u001b[0;32min\u001b[0m \u001b[0;36m2\u001b[0m\u001b[0mD\u001b[0m \u001b[0mspace\u001b[0m\u001b[0;34m.\u001b[0m\u001b[0;34m\u001b[0m\u001b[0;34m\u001b[0m\u001b[0m\n\u001b[1;32m    261\u001b[0m     \"\"\"\n\u001b[0;32m--> 262\u001b[0;31m     \u001b[0;32mreturn\u001b[0m \u001b[0mmake_figure\u001b[0m\u001b[0;34m(\u001b[0m\u001b[0margs\u001b[0m\u001b[0;34m=\u001b[0m\u001b[0mlocals\u001b[0m\u001b[0;34m(\u001b[0m\u001b[0;34m)\u001b[0m\u001b[0;34m,\u001b[0m \u001b[0mconstructor\u001b[0m\u001b[0;34m=\u001b[0m\u001b[0mgo\u001b[0m\u001b[0;34m.\u001b[0m\u001b[0mScatter\u001b[0m\u001b[0;34m)\u001b[0m\u001b[0;34m\u001b[0m\u001b[0;34m\u001b[0m\u001b[0m\n\u001b[0m\u001b[1;32m    263\u001b[0m \u001b[0;34m\u001b[0m\u001b[0m\n\u001b[1;32m    264\u001b[0m \u001b[0;34m\u001b[0m\u001b[0m\n",
      "\u001b[0;32m~/.local/lib/python3.7/site-packages/plotly/express/_core.py\u001b[0m in \u001b[0;36mmake_figure\u001b[0;34m(args, constructor, trace_patch, layout_patch)\u001b[0m\n\u001b[1;32m   1943\u001b[0m     \u001b[0mapply_default_cascade\u001b[0m\u001b[0;34m(\u001b[0m\u001b[0margs\u001b[0m\u001b[0;34m)\u001b[0m\u001b[0;34m\u001b[0m\u001b[0;34m\u001b[0m\u001b[0m\n\u001b[1;32m   1944\u001b[0m \u001b[0;34m\u001b[0m\u001b[0m\n\u001b[0;32m-> 1945\u001b[0;31m     \u001b[0margs\u001b[0m \u001b[0;34m=\u001b[0m \u001b[0mbuild_dataframe\u001b[0m\u001b[0;34m(\u001b[0m\u001b[0margs\u001b[0m\u001b[0;34m,\u001b[0m \u001b[0mconstructor\u001b[0m\u001b[0;34m)\u001b[0m\u001b[0;34m\u001b[0m\u001b[0;34m\u001b[0m\u001b[0m\n\u001b[0m\u001b[1;32m   1946\u001b[0m     \u001b[0;32mif\u001b[0m \u001b[0mconstructor\u001b[0m \u001b[0;32min\u001b[0m \u001b[0;34m[\u001b[0m\u001b[0mgo\u001b[0m\u001b[0;34m.\u001b[0m\u001b[0mTreemap\u001b[0m\u001b[0;34m,\u001b[0m \u001b[0mgo\u001b[0m\u001b[0;34m.\u001b[0m\u001b[0mSunburst\u001b[0m\u001b[0;34m,\u001b[0m \u001b[0mgo\u001b[0m\u001b[0;34m.\u001b[0m\u001b[0mIcicle\u001b[0m\u001b[0;34m]\u001b[0m \u001b[0;32mand\u001b[0m \u001b[0margs\u001b[0m\u001b[0;34m[\u001b[0m\u001b[0;34m\"path\"\u001b[0m\u001b[0;34m]\u001b[0m \u001b[0;32mis\u001b[0m \u001b[0;32mnot\u001b[0m \u001b[0;32mNone\u001b[0m\u001b[0;34m:\u001b[0m\u001b[0;34m\u001b[0m\u001b[0;34m\u001b[0m\u001b[0m\n\u001b[1;32m   1947\u001b[0m         \u001b[0margs\u001b[0m \u001b[0;34m=\u001b[0m \u001b[0mprocess_dataframe_hierarchy\u001b[0m\u001b[0;34m(\u001b[0m\u001b[0margs\u001b[0m\u001b[0;34m)\u001b[0m\u001b[0;34m\u001b[0m\u001b[0;34m\u001b[0m\u001b[0m\n",
      "\u001b[0;32m~/.local/lib/python3.7/site-packages/plotly/express/_core.py\u001b[0m in \u001b[0;36mbuild_dataframe\u001b[0;34m(args, constructor)\u001b[0m\n\u001b[1;32m   1404\u001b[0m \u001b[0;34m\u001b[0m\u001b[0m\n\u001b[1;32m   1405\u001b[0m     df_output, wide_id_vars = process_args_into_dataframe(\n\u001b[0;32m-> 1406\u001b[0;31m         \u001b[0margs\u001b[0m\u001b[0;34m,\u001b[0m \u001b[0mwide_mode\u001b[0m\u001b[0;34m,\u001b[0m \u001b[0mvar_name\u001b[0m\u001b[0;34m,\u001b[0m \u001b[0mvalue_name\u001b[0m\u001b[0;34m\u001b[0m\u001b[0;34m\u001b[0m\u001b[0m\n\u001b[0m\u001b[1;32m   1407\u001b[0m     )\n\u001b[1;32m   1408\u001b[0m \u001b[0;34m\u001b[0m\u001b[0m\n",
      "\u001b[0;32m~/.local/lib/python3.7/site-packages/plotly/express/_core.py\u001b[0m in \u001b[0;36mprocess_args_into_dataframe\u001b[0;34m(args, wide_mode, var_name, value_name)\u001b[0m\n\u001b[1;32m   1205\u001b[0m                         \u001b[0;32mif\u001b[0m \u001b[0margument\u001b[0m \u001b[0;34m==\u001b[0m \u001b[0;34m\"index\"\u001b[0m\u001b[0;34m:\u001b[0m\u001b[0;34m\u001b[0m\u001b[0;34m\u001b[0m\u001b[0m\n\u001b[1;32m   1206\u001b[0m                             \u001b[0merr_msg\u001b[0m \u001b[0;34m+=\u001b[0m \u001b[0;34m\"\\n To use the index, pass it in directly as `df.index`.\"\u001b[0m\u001b[0;34m\u001b[0m\u001b[0;34m\u001b[0m\u001b[0m\n\u001b[0;32m-> 1207\u001b[0;31m                         \u001b[0;32mraise\u001b[0m \u001b[0mValueError\u001b[0m\u001b[0;34m(\u001b[0m\u001b[0merr_msg\u001b[0m\u001b[0;34m)\u001b[0m\u001b[0;34m\u001b[0m\u001b[0;34m\u001b[0m\u001b[0m\n\u001b[0m\u001b[1;32m   1208\u001b[0m                 \u001b[0;32melif\u001b[0m \u001b[0mlength\u001b[0m \u001b[0;32mand\u001b[0m \u001b[0mlen\u001b[0m\u001b[0;34m(\u001b[0m\u001b[0mdf_input\u001b[0m\u001b[0;34m[\u001b[0m\u001b[0margument\u001b[0m\u001b[0;34m]\u001b[0m\u001b[0;34m)\u001b[0m \u001b[0;34m!=\u001b[0m \u001b[0mlength\u001b[0m\u001b[0;34m:\u001b[0m\u001b[0;34m\u001b[0m\u001b[0;34m\u001b[0m\u001b[0m\n\u001b[1;32m   1209\u001b[0m                     raise ValueError(\n",
      "\u001b[0;31mValueError\u001b[0m: Value of 'x' is not the name of a column in 'data_frame'. Expected one of ['idx', 'value'] but received: date"
     ]
    }
   ],
   "source": [
    "api_id = 'niceguy1575'\n",
    "api_key = 'cAibgxtNqZuX1GOVb3km'\n",
    "\n",
    "# text file\n",
    "for txt in txt_file:\n",
    "    file = data_dir + txt\n",
    "    data = pd.read_csv(file, sep = \"|\")\n",
    "\n",
    "    # data type change\n",
    "    data.value = data.value.replace(\".\", None)\n",
    "    data = data.loc[data.value != \".\",:].copy()\n",
    "    data.value = data.value.astype(float)\n",
    "        \n",
    "    # draw plot\n",
    "    chart = draw_plotly_line(data)\n",
    "    \n",
    "    # upload to char studio\n",
    "    chart_layer = txt\n",
    "    chart_studio.tools.set_credentials_file(username = api_id, api_key = api_key)\n",
    "    \n",
    "    # 62, 65, 67, 69\n",
    "    chart = py.plot(chart, filename = chart_layer, auto_open = False, fileopt = 'overwrite', sharing = 'public')"
   ]
  },
  {
   "cell_type": "code",
   "execution_count": 13,
   "id": "24a8a944",
   "metadata": {},
   "outputs": [],
   "source": [
    "# setup notion\n",
    "import os\n",
    "import pandas as pd\n",
    "from datetime import datetime, timedelta\n",
    "from dateutil.relativedelta import relativedelta\n",
    "import re\n",
    "import requests\n",
    "import time\n",
    "from tzlocal import get_localzone\n",
    "\n",
    "\n",
    "def requestURL(url, headers, requestType, data = None, retries=10):\n",
    "    resp = None\n",
    "\n",
    "    try:\n",
    "        resp = requests.request(requestType, url, json = data, headers = headers)\n",
    "        resp.raise_for_status()\n",
    "    except requests.exceptions.HTTPError as e:\n",
    "        if 500 <= resp.status_code < 600 and retries > 0:\n",
    "            print('Retries : {0}'.format(retries))\n",
    "            return postUrl(url, param, retries - 1)\n",
    "        else:\n",
    "            print(resp.status_code)\n",
    "            print(resp.reason)\n",
    "            print(resp.request.headers)\n",
    "    return resp\n",
    "\n",
    "\n",
    "def BlockHeader(url, requestType, headers, headingType, text = None):\n",
    "    \n",
    "    heading = 'heading_1' if headingType == 1 else 'heading_2' if headingType == 2 else 'heading_3'\n",
    "    \n",
    "    data = {\n",
    "    \"children\": [ {\n",
    "          \"type\": heading,\n",
    "          heading: {\n",
    "            \"rich_text\": [{\n",
    "              \"type\": \"text\",\n",
    "              \"text\": {\n",
    "                \"content\": text,\n",
    "              }\n",
    "            }],\n",
    "            \"color\": \"default\"\n",
    "          }\n",
    "    } ] }\n",
    "    \n",
    "    return requestURL(url, headers, requestType, data)\n",
    "\n",
    "def BlockParagraph(url, requestType, headers, text = None):\n",
    "        \n",
    "    data = {\n",
    "    \"children\": [ {\n",
    "          \"type\": \"paragraph\",\n",
    "          \"paragraph\": {\n",
    "            \"rich_text\": [{\n",
    "              \"type\": \"text\",\n",
    "              \"text\": {\n",
    "                \"content\": text\n",
    "              }\n",
    "            }]\n",
    "          } \n",
    "        } ] }\n",
    "    \n",
    "    return requestURL(url, headers, requestType, data)\n",
    "\n",
    "def BlockEmbed(url, requestType, headers, embedURL):\n",
    "        \n",
    "    data = {\n",
    "    \"children\": [ {\n",
    "              \"type\": \"embed\",\n",
    "                \"embed\": {\n",
    "                    \"url\": embedURL\n",
    "              }\n",
    "    } ] }\n",
    "    \n",
    "    return requestURL(url, headers, requestType, data)\n",
    "\n",
    "def BlockBookmark(url, requestType, headers, bookmarkURL):\n",
    "        \n",
    "    data = {\n",
    "    \"children\": [ {\n",
    "              \"type\": \"bookmark\",\n",
    "                \"bookmark\": {\n",
    "                    \"url\": bookmarkURL\n",
    "              }\n",
    "    } ] }\n",
    "    \n",
    "    return requestURL(url, headers, requestType, data)"
   ]
  },
  {
   "cell_type": "code",
   "execution_count": 38,
   "id": "f4ffdcfa",
   "metadata": {},
   "outputs": [
    {
     "data": {
      "text/plain": [
       "<Response [200]>"
      ]
     },
     "execution_count": 38,
     "metadata": {},
     "output_type": "execute_result"
    }
   ],
   "source": [
    "# 0. 필요 데이터 setup\n",
    "now = datetime.now()\n",
    "now_f = now.strftime(\"%Y-%m-%d\")\n",
    "\n",
    "notion_secret_key = \"secret_SzUg5gSUlHSzQthfKAZZk1icFugF3dFypnAc02DN826\"\n",
    "target_page_id = \"07cae222-fb62-4bc5-b402-e96c1c86ed70\"\n",
    "\n",
    "ice_url = 'https://plotly.com/~niceguy1575/77/'\n",
    "fed_funds_url = 'https://plotly.com/~niceguy1575/81/'\n",
    "t10yt2 = 'https://plotly.com/~niceguy1575/79/'\n",
    "inflate_url = 'https://plotly.com/~niceguy1575/75/'\n",
    "\n",
    "# 1. 사전에 notion에서 사전에 페이지 획득 필요!\n",
    "post_url = \"https://api.notion.com/v1/pages\"\n",
    "headers = {\n",
    "    \"Accept\": \"application/json\",\n",
    "    \"Notion-Version\": \"2022-02-22\",\n",
    "    \"Content-Type\": \"application/json\",\n",
    "    \"Authorization\": \"Bearer \" + notion_secret_key\n",
    "}\n",
    "page_data = {\n",
    "\"parent\": { \"page_id\": target_page_id },\n",
    "\"properties\": {\n",
    "    \"title\": {\n",
    "        \"title\": [{ \"type\": \"text\", \"text\": { \"content\": now_f } }]\n",
    "        }\n",
    "    },\n",
    "\"children\": [ {\n",
    "    \"object\": \"block\",\n",
    "    \"type\": \"paragraph\",\n",
    "    \"paragraph\": {\n",
    "        \"rich_text\": [{ \"type\": \"text\", \"text\": { \"content\": \"중요한 미국 경제 지표를 한눈에 살펴볼 수 있는 레포트\" } }]\n",
    "        }\n",
    "} ] }\n",
    "\n",
    "# create page data\n",
    "requestURL(post_url, headers, \"POST\", data = page_data)\n",
    "time.sleep(5)\n",
    "\n",
    "####################|################\n",
    "# child block 생성\n",
    "####################################\n",
    "# 새로 만들어진 page id 확인\n",
    "get_url = \"https://api.notion.com/v1/blocks/\"  + target_page_id +  \"/children?page_size=100\"\n",
    "\n",
    "id_request = requestURL(get_url, headers, \"GET\")\n",
    "parent_parse = pd.json_normalize(id_request.json())['results']\n",
    "children_df = pd.json_normalize(parent_parse[0])\n",
    "makingIDSeries = children_df[children_df.has_children == True].tail(n=1).id\n",
    "makingID = makingIDSeries.values[0]\n",
    "\n",
    "####################################\n",
    "# notion api upload\n",
    "####################################\n",
    "childrenURL = 'https://api.notion.com/v1/blocks/' + makingID + '/children'\n",
    "\n",
    "BlockHeader(childrenURL, \"PATCH\", headers, headingType = 2, text ='중요 거시경제 지표 확인')\n",
    "\n",
    "# 1. 부도위험\n",
    "BlockHeader(childrenURL, \"PATCH\", headers, headingType = 3, text ='부도위험 (ICE)')\n",
    "\n",
    "# 1-2. ice graph\n",
    "BlockEmbed(childrenURL, \"PATCH\", headers, embedURL = ice_url)"
   ]
  },
  {
   "cell_type": "code",
   "execution_count": 43,
   "id": "7704f7f1",
   "metadata": {},
   "outputs": [
    {
     "data": {
      "text/plain": [
       "<Response [200]>"
      ]
     },
     "execution_count": 43,
     "metadata": {},
     "output_type": "execute_result"
    }
   ],
   "source": [
    "BlockBookmark(childrenURL, \"PATCH\", headers, 'https://www.federalreserve.gov/monetarypolicy/fomccalendars.html')"
   ]
  },
  {
   "cell_type": "code",
   "execution_count": 44,
   "id": "f41bf171",
   "metadata": {},
   "outputs": [
    {
     "name": "stdout",
     "output_type": "stream",
     "text": [
      "0.setup_package.py\n",
      "1.get_data_from_fred.py\n",
      "2.draw_chart_studio.py\n",
      "2.draw test.ipynb\n",
      "3.upload_to_notion.py\n",
      "data\n",
      "plot\n",
      "Untitled.ipynb\n"
     ]
    },
    {
     "data": {
      "text/plain": [
       "0"
      ]
     },
     "execution_count": 44,
     "metadata": {},
     "output_type": "execute_result"
    }
   ],
   "source": [
    "os.system(\"touch \" + pdf_url)"
   ]
  },
  {
   "cell_type": "code",
   "execution_count": 54,
   "id": "e076328a",
   "metadata": {},
   "outputs": [],
   "source": [
    "now = datetime.now() + timedelta(days=1)\n",
    "now_f = now.strftime(\"%Y-%m-%d\")\n",
    "\n",
    "notion_secret_key = \"secret_SzUg5gSUlHSzQthfKAZZk1icFugF3dFypnAc02DN826\"\n",
    "target_page_id = \"07cae222-fb62-4bc5-b402-e96c1c86ed70\"\n",
    "\n",
    "\n",
    "data_dir = os.getcwd() + \"/data/\"\n",
    "files = os.listdir(data_dir)\n",
    "\n",
    "txt_regex = re.compile('.pdf$')\n",
    "pdf_file = list(filter(txt_regex.search, files))\n",
    "\n",
    "# url list\n",
    "ice_url = 'https://plotly.com/~niceguy1575/77/'\n",
    "fed_funds_url = 'https://plotly.com/~niceguy1575/81/'\n",
    "t10yt2_url = 'https://plotly.com/~niceguy1575/79/'\n",
    "inflate_url = 'https://plotly.com/~niceguy1575/75/'\n",
    "fomc_url = 'https://www.federalreserve.gov/monetarypolicy/fomccalendars.htm'\n",
    "fng_url = 'https://money.cnn.com/data/fear-and-greed'\n",
    "roro_url = 'https://www.mvis-indices.com/indices/customised/atac-risk-on-risk-off-domestic'\n",
    "pdf_url = pdf_file\n"
   ]
  },
  {
   "cell_type": "code",
   "execution_count": 55,
   "id": "75838661",
   "metadata": {},
   "outputs": [
    {
     "data": {
      "text/plain": [
       "['12fwd_031122.pdf']"
      ]
     },
     "execution_count": 55,
     "metadata": {},
     "output_type": "execute_result"
    }
   ],
   "source": [
    "pdf_url"
   ]
  },
  {
   "cell_type": "code",
   "execution_count": 58,
   "id": "43107825",
   "metadata": {},
   "outputs": [
    {
     "data": {
      "text/plain": [
       "'12fwd_031122.pdf'"
      ]
     },
     "execution_count": 58,
     "metadata": {},
     "output_type": "execute_result"
    }
   ],
   "source": [
    "pdf_file[0]"
   ]
  },
  {
   "cell_type": "code",
   "execution_count": 57,
   "id": "6e883d5e",
   "metadata": {},
   "outputs": [
    {
     "data": {
      "text/plain": [
       "['.ipynb_checkpoints',\n",
       " 'fred_T10YIE.txt',\n",
       " 'fred_BAMLH0A0HYM2.txt',\n",
       " 'fred_T10Y2Y.txt',\n",
       " 'fred_FEDFUNDS.txt',\n",
       " 'FG_image.png',\n",
       " '12fwd_031122.pdf',\n",
       " 'p0-37.png',\n",
       " 'business_cycle.png']"
      ]
     },
     "execution_count": 57,
     "metadata": {},
     "output_type": "execute_result"
    }
   ],
   "source": [
    "https://www.factset.com/hubfs/Website/Resources%20Section/Research%20Desk/Earnings%20Insight/EarningsInsight_12fwd_031122.pdf"
   ]
  },
  {
   "cell_type": "code",
   "execution_count": 60,
   "id": "9515e9c4",
   "metadata": {},
   "outputs": [
    {
     "ename": "AttributeError",
     "evalue": "module 'pandas' has no attribute 'to_csv'",
     "output_type": "error",
     "traceback": [
      "\u001b[0;31m---------------------------------------------------------------------------\u001b[0m",
      "\u001b[0;31mAttributeError\u001b[0m                            Traceback (most recent call last)",
      "\u001b[0;32m/tmp/ipykernel_26736/3753001914.py\u001b[0m in \u001b[0;36m<module>\u001b[0;34m\u001b[0m\n\u001b[0;32m----> 1\u001b[0;31m \u001b[0mpd\u001b[0m\u001b[0;34m.\u001b[0m\u001b[0mto_csv\u001b[0m\u001b[0;34m(\u001b[0m\u001b[0;34m\"https://www.factset.com/hubfs/Website/Resources%20Section/Research%20Desk/Earnings%20Insight/EarningsInsight_031122.pdf\"\u001b[0m\u001b[0;34m)\u001b[0m\u001b[0;34m\u001b[0m\u001b[0;34m\u001b[0m\u001b[0m\n\u001b[0m",
      "\u001b[0;32m~/.local/lib/python3.7/site-packages/pandas/__init__.py\u001b[0m in \u001b[0;36m__getattr__\u001b[0;34m(name)\u001b[0m\n\u001b[1;32m    242\u001b[0m         \u001b[0;32mreturn\u001b[0m \u001b[0m_SparseArray\u001b[0m\u001b[0;34m\u001b[0m\u001b[0;34m\u001b[0m\u001b[0m\n\u001b[1;32m    243\u001b[0m \u001b[0;34m\u001b[0m\u001b[0m\n\u001b[0;32m--> 244\u001b[0;31m     \u001b[0;32mraise\u001b[0m \u001b[0mAttributeError\u001b[0m\u001b[0;34m(\u001b[0m\u001b[0;34mf\"module 'pandas' has no attribute '{name}'\"\u001b[0m\u001b[0;34m)\u001b[0m\u001b[0;34m\u001b[0m\u001b[0;34m\u001b[0m\u001b[0m\n\u001b[0m\u001b[1;32m    245\u001b[0m \u001b[0;34m\u001b[0m\u001b[0m\n\u001b[1;32m    246\u001b[0m \u001b[0;34m\u001b[0m\u001b[0m\n",
      "\u001b[0;31mAttributeError\u001b[0m: module 'pandas' has no attribute 'to_csv'"
     ]
    }
   ],
   "source": [
    "pd.to_csv()"
   ]
  },
  {
   "cell_type": "code",
   "execution_count": 64,
   "id": "dbfe4530",
   "metadata": {},
   "outputs": [],
   "source": [
    "\n",
    "pd.DataFrame([\"https://www.factset.com/hubfs/Website/Resources%20Section/Research%20Desk/Earnings%20Insight/EarningsInsight_031122.pdf\"]).to_csv('url_pdf.txt', sep = '|')"
   ]
  },
  {
   "cell_type": "code",
   "execution_count": 74,
   "id": "6e6c92d5",
   "metadata": {},
   "outputs": [],
   "source": [
    "data_dir = os.getcwd() + \"/data/\"\n",
    "files = os.listdir(data_dir)\n",
    "\n",
    "txt_regex = re.compile('pdf.txt$')\n",
    "pdf_file = list(filter(txt_regex.search, files))\n",
    "x = pd.read_csv(data_dir + pdf_file[0], sep = \"|\")\n",
    "x['0'][0]"
   ]
  },
  {
   "cell_type": "code",
   "execution_count": 78,
   "id": "b3d0ae10",
   "metadata": {},
   "outputs": [
    {
     "data": {
      "text/plain": [
       "'https://www.factset.com/hubfs/Website/Resources%20Section/Research%20Desk/Earnings%20Insight/EarningsInsight_031122.pdf'"
      ]
     },
     "execution_count": 78,
     "metadata": {},
     "output_type": "execute_result"
    }
   ],
   "source": [
    "x['0'][0]"
   ]
  },
  {
   "cell_type": "code",
   "execution_count": 70,
   "id": "fa6073b2",
   "metadata": {},
   "outputs": [
    {
     "data": {
      "text/plain": [
       "'/home/ec2-user/economy_stats/macro_index/src/data/'"
      ]
     },
     "execution_count": 70,
     "metadata": {},
     "output_type": "execute_result"
    }
   ],
   "source": [
    "data_dir"
   ]
  },
  {
   "cell_type": "code",
   "execution_count": 2,
   "id": "3a82f220",
   "metadata": {},
   "outputs": [],
   "source": [
    "class SendEmail:\n",
    "\n",
    "    def __init__(self, senderEmailServer, senderEmail, senderPW):\n",
    "        try: \n",
    "            # 587 -> outlook port number\n",
    "            self.smtp = smtplib.SMTP(senderEmailServer, 587)\n",
    "            self.smtp.ehlo() # say Hello\n",
    "            self.smtp.starttls() # TLS 사용시 필요\n",
    "            self.smtp.login(senderEmail, senderPW) \n",
    "        except Exception as e:\n",
    "            print(e)\n",
    "            self.smtp = smtplib.SMTP(senderEmailServer, 587)\n",
    "            self.smtp.ehlo() # say Hello\n",
    "            # self.smtp.starttls() # TLS 사용시 필요\n",
    "            self.smtp.login(senderEmail, senderPW) \n",
    "            \n",
    "    def MailSender(self, message, subject, senderEmail, targetEmail):\n",
    "        \n",
    "        # send with message\n",
    "        #msg = MIMEText(message) \n",
    "\n",
    "        # send with HTML\n",
    "        msg = MIMEMultipart('alternative')\n",
    "        msg['Subject'] = subject\n",
    "        msg['From'] = senderEmail\n",
    "        msg['To'] = targetEmail\n",
    "        \n",
    "        # attach HTML\n",
    "        msg.attach( MIMEText(message, 'html') )\n",
    "\n",
    "        self.smtp.sendmail(senderEmail, targetEmail, msg.as_string()) \n",
    "        self.QuitSMTP()\n",
    "        \n",
    "    def QuitSMTP(self):\n",
    "        self.smtp.quit()\n",
    "        "
   ]
  },
  {
   "cell_type": "code",
   "execution_count": 7,
   "id": "f36a102b",
   "metadata": {},
   "outputs": [],
   "source": [
    "import smtplib\n",
    "from email.mime.text import MIMEText\n",
    "from email.mime.multipart import MIMEMultipart\n",
    "\n",
    "page_link = 'https://niceguy1575.notion.site/07cae222fb624bc5b402e96c1c86ed70'\n",
    "    \n",
    "senderEmail = 'mr.niceguy1575@gmail.com'\n",
    "senderPW = 'elaxttzkdxbqppnd'\n",
    "\n",
    "SenderMailServer = 'smtp.gmail.com'\n",
    "SenderEmail = 'mr.niceguy1575@gmail.com'\n",
    "SenderPW = 'elaxttzkdxbqppnd'\n",
    "SMail = SendEmail(SenderMailServer, SenderEmail, SenderPW) # 수신 메일 설정 \n",
    "\n",
    "TargetEmail = 'niceguy1575@naver.com'\n",
    "Subject = \"📧 \" + \" 경제 리포트\"\n",
    "\n",
    "Message = \\\n",
    "\"\"\"<html>\n",
    "        <head>\n",
    "            <meta charset=\"utf-8\">\n",
    "        </head>\n",
    "        <body>\n",
    "            <h2> 당신을 위한 오늘의 경제 리포트 👀 </h2>\n",
    "            <a href=\"https://niceguy1575.notion.site/07cae222fb624bc5b402e96c1c86ed70/\"> Visit Your Report! </a>\n",
    "        </body>\n",
    "    </html>\n",
    "\"\"\"\n",
    "\n",
    "SMail.MailSender(Message, Subject, SenderEmail, TargetEmail)"
   ]
  },
  {
   "cell_type": "code",
   "execution_count": 16,
   "id": "f5cb5a1b",
   "metadata": {},
   "outputs": [],
   "source": [
    "save_path = os.getcwd() + \"/data\"\n",
    "log_path = os.getcwd() + \"/log\"\n",
    "today = datetime.today()\n",
    "today_str = str(today.strftime(\"%Y-%m-%d\"))"
   ]
  },
  {
   "cell_type": "code",
   "execution_count": 17,
   "id": "084c9ae7",
   "metadata": {},
   "outputs": [],
   "source": [
    "idstr = \"07cae222-fb62-4bc5-b402-e96c1c86ed70\".replace(\"-\", \"\") \n",
    "base = 'https://niceguy1575.notion.site/'"
   ]
  },
  {
   "cell_type": "code",
   "execution_count": 18,
   "id": "a4b74210",
   "metadata": {},
   "outputs": [
    {
     "data": {
      "text/plain": [
       "'https://niceguy1575.notion.site/2022-03-13-07cae222fb624bc5b402e96c1c86ed70'"
      ]
     },
     "execution_count": 18,
     "metadata": {},
     "output_type": "execute_result"
    }
   ],
   "source": [
    "'https://niceguy1575.notion.site/' + today_str + '-' + idstr"
   ]
  },
  {
   "cell_type": "code",
   "execution_count": null,
   "id": "2563f9fb",
   "metadata": {},
   "outputs": [],
   "source": [
    "    2022-03-13-559d658e078342278dec79c84abc82cc\n",
    "\t# delete data folder\n",
    "\tprint(\"delete files! \" + now_f)\n",
    "\tos.system(\"rm \" + data_dir + \"*\")"
   ]
  },
  {
   "cell_type": "code",
   "execution_count": 21,
   "id": "7b99b8c8",
   "metadata": {},
   "outputs": [],
   "source": [
    "data_dir = '/home/ec2-user/economy_stats/run/data/'\n",
    "files = os.listdir(data_dir)\n",
    "\n",
    "txt_regex = re.compile('mail')\n",
    "mail_file = list(filter(txt_regex.search, files))\n",
    "report_link = pd.read_csv(data_dir + mail_file[0], sep = \"|\")\n",
    "page_link = report_link['0'][0]"
   ]
  },
  {
   "cell_type": "code",
   "execution_count": 22,
   "id": "5c883ed7",
   "metadata": {},
   "outputs": [
    {
     "data": {
      "text/plain": [
       "'https://niceguy1575.notion.site/2022-03-13-9cc24186fd7644e38adf459fc2d4637f'"
      ]
     },
     "execution_count": 22,
     "metadata": {},
     "output_type": "execute_result"
    }
   ],
   "source": [
    "page_link"
   ]
  },
  {
   "cell_type": "code",
   "execution_count": null,
   "id": "174e2df1",
   "metadata": {},
   "outputs": [],
   "source": []
  }
 ],
 "metadata": {
  "kernelspec": {
   "display_name": "Python 3 (ipykernel)",
   "language": "python",
   "name": "python3"
  },
  "language_info": {
   "codemirror_mode": {
    "name": "ipython",
    "version": 3
   },
   "file_extension": ".py",
   "mimetype": "text/x-python",
   "name": "python",
   "nbconvert_exporter": "python",
   "pygments_lexer": "ipython3",
   "version": "3.7.10"
  }
 },
 "nbformat": 4,
 "nbformat_minor": 5
}
